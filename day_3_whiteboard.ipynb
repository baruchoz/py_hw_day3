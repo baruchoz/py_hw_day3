{
 "cells": [
  {
   "cell_type": "code",
   "execution_count": 9,
   "id": "be14b4a2",
   "metadata": {
    "scrolled": true
   },
   "outputs": [],
   "source": [
    "#Return the number (count) of vowels in the given string.\n",
    "\n",
    "#We will consider a, e, i, o, u as vowels (but not y).\n",
    "\n",
    "#The input string will only consist of lower case letters and/or spaces.\n",
    "\n",
    "#ex:\n",
    "#get_count('hello_world') => 3\n",
    "\n",
    "name = 'hello world'\n",
    "\n",
    "def vowel_count(i):\n",
    "    vowels = 'aeiou'\n",
    "    \n",
    "    if vowels in i:\n",
    "        vowels.pop(i)\n",
    "        \n",
    "vowel_count('hello world')         "
   ]
  },
  {
   "cell_type": "code",
   "execution_count": 17,
   "id": "d9d8b3ff",
   "metadata": {},
   "outputs": [
    {
     "data": {
      "text/plain": [
       "3"
      ]
     },
     "execution_count": 17,
     "metadata": {},
     "output_type": "execute_result"
    }
   ],
   "source": [
    "name = 'hello world'\n",
    "\n",
    "def vowel_count(i):\n",
    "    vowels = ['a', 'e', 'i', 'o', 'u']\n",
    "    lst = []\n",
    "    for letter in i:\n",
    "        if letter in vowels:\n",
    "            lst.append(letter)\n",
    "    return len(lst)\n",
    "vowel_count(name)        "
   ]
  },
  {
   "cell_type": "code",
   "execution_count": null,
   "id": "3684e4c2",
   "metadata": {},
   "outputs": [],
   "source": []
  }
 ],
 "metadata": {
  "kernelspec": {
   "display_name": "Python 3",
   "language": "python",
   "name": "python3"
  },
  "language_info": {
   "codemirror_mode": {
    "name": "ipython",
    "version": 3
   },
   "file_extension": ".py",
   "mimetype": "text/x-python",
   "name": "python",
   "nbconvert_exporter": "python",
   "pygments_lexer": "ipython3",
   "version": "3.8.8"
  }
 },
 "nbformat": 4,
 "nbformat_minor": 5
}
